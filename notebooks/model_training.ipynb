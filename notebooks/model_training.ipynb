{
 "cells": [
  {
   "cell_type": "code",
   "execution_count": 7,
   "id": "862b0938-ad18-4286-8294-7e0ebb6e34be",
   "metadata": {},
   "outputs": [],
   "source": [
    "import numpy as np\n",
    "import pandas as pd\n",
    "from sklearn.model_selection import train_test_split\n",
    "\n",
    "df = pd.read_csv('../data/cleaned_diabetes.csv')\n"
   ]
  },
  {
   "cell_type": "code",
   "execution_count": 11,
   "id": "ef0ab7c4-78b2-4a18-90cc-6eef730d5f3c",
   "metadata": {},
   "outputs": [
    {
     "name": "stdout",
     "output_type": "stream",
     "text": [
      "(229781, 3)\n"
     ]
    }
   ],
   "source": [
    "# Features and labels\n",
    "X = df.drop('Diabetes_012', axis=1).values  # shape: (n_samples, n_features)\n",
    "y = df['Diabetes_012'].values               # shape: (n_samples,)\n",
    "\n",
    "# One-hot encode y labels for softmax\n",
    "def one_hot(y, num_classes):\n",
    "    one_hot_encoded = np.zeros((y.size, num_classes))\n",
    "    one_hot_encoded[np.arange(y.size), y.astype(int)] = 1\n",
    "    return one_hot_encoded\n",
    "\n",
    "Y = one_hot(y, num_classes=3)\n",
    "\n",
    "print(Y.shape)\n"
   ]
  },
  {
   "cell_type": "code",
   "execution_count": 12,
   "id": "ea669e55-cf77-4292-be48-d81a1df93aa6",
   "metadata": {},
   "outputs": [],
   "source": [
    "# Initialize weights and bias\n",
    "n_samples, n_features = X.shape\n",
    "n_classes = 3\n",
    "\n",
    "np.random.seed(42)\n",
    "\n",
    "W = np.random.randn(n_features, n_classes) * 0.01  # small random numbers\n",
    "b = np.zeros((1, n_classes))                        # bias\n"
   ]
  },
  {
   "cell_type": "code",
   "execution_count": 13,
   "id": "bbbbd0db-d601-4a1e-9570-48180d4aeff2",
   "metadata": {},
   "outputs": [],
   "source": [
    "# Softmax function\n",
    "def softmax(z):\n",
    "    exp_z = np.exp(z - np.max(z, axis=1, keepdims=True))  # stability fix\n",
    "    return exp_z / np.sum(exp_z, axis=1, keepdims=True)\n",
    "\n",
    "# Cross-entropy loss\n",
    "def cross_entropy_loss(Y, P):\n",
    "    epsilon = 1e-12\n",
    "    P = np.clip(P, epsilon, 1. - epsilon)\n",
    "    return -np.mean(np.sum(Y * np.log(P), axis=1))\n"
   ]
  },
  {
   "cell_type": "code",
   "execution_count": 14,
   "id": "d519dd29-9183-4787-b5ed-2cb9b91b94ee",
   "metadata": {},
   "outputs": [],
   "source": [
    "def train(X, Y, W, b, lr=0.1, epochs=1000):\n",
    "    for i in range(epochs):\n",
    "        # Forward pass\n",
    "        logits = np.dot(X, W) + b\n",
    "        P = softmax(logits)\n",
    "\n",
    "        # Loss\n",
    "        loss = cross_entropy_loss(Y, P)\n",
    "\n",
    "        # Backward pass (gradients)\n",
    "        dW = np.dot(X.T, (P - Y)) / X.shape[0]\n",
    "        db = np.sum(P - Y, axis=0, keepdims=True) / X.shape[0]\n",
    "\n",
    "        # Update parameters\n",
    "        W -= lr * dW\n",
    "        b -= lr * db\n",
    "\n",
    "        if i % 100 == 0:\n",
    "            print(f\"Epoch {i}, Loss: {loss:.4f}\")\n",
    "    \n",
    "    return W, b\n"
   ]
  },
  {
   "cell_type": "code",
   "execution_count": 16,
   "id": "268da1fe-89fb-436e-a370-98dfbba7d253",
   "metadata": {},
   "outputs": [
    {
     "name": "stdout",
     "output_type": "stream",
     "text": [
      "Epoch 0, Loss: 0.6652\n",
      "Epoch 100, Loss: 0.6714\n",
      "Epoch 200, Loss: 0.5846\n",
      "Epoch 300, Loss: 1.0746\n",
      "Epoch 400, Loss: 1.0751\n",
      "Epoch 500, Loss: 0.5491\n",
      "Epoch 600, Loss: 0.4827\n",
      "Epoch 700, Loss: 0.4948\n",
      "Epoch 800, Loss: 0.5121\n",
      "Epoch 900, Loss: 0.7051\n"
     ]
    }
   ],
   "source": [
    "# Train the model\n",
    "W, b = train(X, Y, W, b, lr=0.1, epochs=1000)\n"
   ]
  },
  {
   "cell_type": "code",
   "execution_count": 18,
   "id": "12a45753-e0ce-47ef-994b-6ea2700df0aa",
   "metadata": {},
   "outputs": [
    {
     "data": {
      "text/plain": [
       "array([2, 0, 0, ..., 0, 0, 0])"
      ]
     },
     "execution_count": 18,
     "metadata": {},
     "output_type": "execute_result"
    }
   ],
   "source": [
    "# Prediction function\n",
    "def predict(X, W, b):\n",
    "    logits = np.dot(X, W) + b\n",
    "    P = softmax(logits)\n",
    "    return np.argmax(P, axis=1)  # Choose class with highest probability\n",
    "\n",
    "# Make predictions\n",
    "y_pred = predict(X, W, b)\n",
    "y_pred"
   ]
  },
  {
   "cell_type": "code",
   "execution_count": 20,
   "id": "42c12e7f-25e3-47ac-8558-0176b60cd5a7",
   "metadata": {},
   "outputs": [
    {
     "name": "stdout",
     "output_type": "stream",
     "text": [
      "Accuracy: 0.8160030637868231\n",
      "              precision    recall  f1-score   support\n",
      "\n",
      "         0.0       0.86      0.94      0.90    190055\n",
      "         1.0       0.00      0.00      0.00      4629\n",
      "         2.0       0.42      0.27      0.33     35097\n",
      "\n",
      "    accuracy                           0.82    229781\n",
      "   macro avg       0.43      0.40      0.41    229781\n",
      "weighted avg       0.77      0.82      0.79    229781\n",
      "\n"
     ]
    },
    {
     "data": {
      "image/png": "[encoded data removed]",
      "text/plain": [
       "<Figure size 600x500 with 2 Axes>"
      ]
     },
     "metadata": {},
     "output_type": "display_data"
    }
   ],
   "source": [
    "from sklearn.metrics import accuracy_score, classification_report, confusion_matrix\n",
    "\n",
    "# Evaluate\n",
    "print(\"Accuracy:\", accuracy_score(y, y_pred))\n",
    "print(classification_report(y, y_pred, zero_division=0))\n",
    "\n",
    "# Optional: confusion matrix\n",
    "import seaborn as sns\n",
    "import matplotlib.pyplot as plt\n",
    "\n",
    "cm = confusion_matrix(y, y_pred)\n",
    "plt.figure(figsize=(6,5))\n",
    "sns.heatmap(cm, annot=True, fmt='d', cmap='Blues', xticklabels=[0,1,2], yticklabels=[0,1,2])\n",
    "plt.xlabel('Predicted')\n",
    "plt.ylabel('Actual')\n",
    "plt.title('Confusion Matrix')\n",
    "plt.show()\n"
   ]
  },
  {
   "cell_type": "code",
   "execution_count": null,
   "id": "7b145fa4-6a36-4371-afcc-279a6ad21959",
   "metadata": {},
   "outputs": [],
   "source": []
  },
  {
   "cell_type": "code",
   "execution_count": null,
   "id": "bd73b21c-ccd6-47b5-8736-47b90e8b6c5a",
   "metadata": {},
   "outputs": [],
   "source": []
  },
  {
   "cell_type": "code",
   "execution_count": null,
   "id": "fb5ce45d-48f7-4bf6-a633-bfade66cc966",
   "metadata": {},
   "outputs": [],
   "source": []
  }
 ],
 "metadata": {
  "kernelspec": {
   "display_name": "Python 3 (ipykernel)",
   "language": "python",
   "name": "python3"
  },
  "language_info": {
   "codemirror_mode": {
    "name": "ipython",
    "version": 3
   },
   "file_extension": ".py",
   "mimetype": "text/x-python",
   "name": "python",
   "nbconvert_exporter": "python",
   "pygments_lexer": "ipython3",
   "version": "3.11.8"
  }
 },
 "nbformat": 4,
 "nbformat_minor": 5
}
