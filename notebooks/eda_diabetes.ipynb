{
 "cells": [
  {
   "cell_type": "code",
   "execution_count": 3,
   "id": "647a0683-8551-4277-be63-5af1822fd901",
   "metadata": {},
   "outputs": [],
   "source": [
    "import pandas as pd\n"
   ]
  },
  {
   "cell_type": "code",
   "execution_count": 4,
   "id": "74d603ea-d590-473e-aba4-31eb9aebf54c",
   "metadata": {},
   "outputs": [],
   "source": [
    "df = pd.read_csv('../data/diabetes_012_health_indicators_BRFSS2015.csv')\n"
   ]
  },
  {
   "cell_type": "code",
   "execution_count": 6,
   "id": "a8c4d06b-d6d5-4a69-9253-741483c8d45d",
   "metadata": {},
   "outputs": [
    {
     "name": "stdout",
     "output_type": "stream",
     "text": [
      "        Diabetes_012  HighBP  HighChol  CholCheck   BMI  Smoker  Stroke  \\\n",
      "0                0.0     1.0       1.0        1.0  40.0     1.0     0.0   \n",
      "1                0.0     0.0       0.0        0.0  25.0     1.0     0.0   \n",
      "2                0.0     1.0       1.0        1.0  28.0     0.0     0.0   \n",
      "3                0.0     1.0       0.0        1.0  27.0     0.0     0.0   \n",
      "4                0.0     1.0       1.0        1.0  24.0     0.0     0.0   \n",
      "...              ...     ...       ...        ...   ...     ...     ...   \n",
      "253675           0.0     1.0       1.0        1.0  45.0     0.0     0.0   \n",
      "253676           2.0     1.0       1.0        1.0  18.0     0.0     0.0   \n",
      "253677           0.0     0.0       0.0        1.0  28.0     0.0     0.0   \n",
      "253678           0.0     1.0       0.0        1.0  23.0     0.0     0.0   \n",
      "253679           2.0     1.0       1.0        1.0  25.0     0.0     0.0   \n",
      "\n",
      "        HeartDiseaseorAttack  PhysActivity  Fruits  ...  AnyHealthcare  \\\n",
      "0                        0.0           0.0     0.0  ...            1.0   \n",
      "1                        0.0           1.0     0.0  ...            0.0   \n",
      "2                        0.0           0.0     1.0  ...            1.0   \n",
      "3                        0.0           1.0     1.0  ...            1.0   \n",
      "4                        0.0           1.0     1.0  ...            1.0   \n",
      "...                      ...           ...     ...  ...            ...   \n",
      "253675                   0.0           0.0     1.0  ...            1.0   \n",
      "253676                   0.0           0.0     0.0  ...            1.0   \n",
      "253677                   0.0           1.0     1.0  ...            1.0   \n",
      "253678                   0.0           0.0     1.0  ...            1.0   \n",
      "253679                   1.0           1.0     1.0  ...            1.0   \n",
      "\n",
      "        NoDocbcCost  GenHlth  MentHlth  PhysHlth  DiffWalk  Sex   Age  \\\n",
      "0               0.0      5.0      18.0      15.0       1.0  0.0   9.0   \n",
      "1               1.0      3.0       0.0       0.0       0.0  0.0   7.0   \n",
      "2               1.0      5.0      30.0      30.0       1.0  0.0   9.0   \n",
      "3               0.0      2.0       0.0       0.0       0.0  0.0  11.0   \n",
      "4               0.0      2.0       3.0       0.0       0.0  0.0  11.0   \n",
      "...             ...      ...       ...       ...       ...  ...   ...   \n",
      "253675          0.0      3.0       0.0       5.0       0.0  1.0   5.0   \n",
      "253676          0.0      4.0       0.0       0.0       1.0  0.0  11.0   \n",
      "253677          0.0      1.0       0.0       0.0       0.0  0.0   2.0   \n",
      "253678          0.0      3.0       0.0       0.0       0.0  1.0   7.0   \n",
      "253679          0.0      2.0       0.0       0.0       0.0  0.0   9.0   \n",
      "\n",
      "        Education  Income  \n",
      "0             4.0     3.0  \n",
      "1             6.0     1.0  \n",
      "2             4.0     8.0  \n",
      "3             3.0     6.0  \n",
      "4             5.0     4.0  \n",
      "...           ...     ...  \n",
      "253675        6.0     7.0  \n",
      "253676        2.0     4.0  \n",
      "253677        5.0     2.0  \n",
      "253678        5.0     1.0  \n",
      "253679        6.0     2.0  \n",
      "\n",
      "[253680 rows x 22 columns]\n"
     ]
    }
   ],
   "source": [
    "print(df)"
   ]
  },
  {
   "cell_type": "code",
   "execution_count": null,
   "id": "db89246b-15bb-4690-8d42-fbab9fd0fd9d",
   "metadata": {},
   "outputs": [],
   "source": []
  },
  {
   "cell_type": "code",
   "execution_count": null,
   "id": "56ec47ef-4291-46c3-a962-65ca1951daff",
   "metadata": {},
   "outputs": [],
   "source": []
  }
 ],
 "metadata": {
  "kernelspec": {
   "display_name": "Python 3 (ipykernel)",
   "language": "python",
   "name": "python3"
  },
  "language_info": {
   "codemirror_mode": {
    "name": "ipython",
    "version": 3
   },
   "file_extension": ".py",
   "mimetype": "text/x-python",
   "name": "python",
   "nbconvert_exporter": "python",
   "pygments_lexer": "ipython3",
   "version": "3.11.8"
  }
 },
 "nbformat": 4,
 "nbformat_minor": 5
}
