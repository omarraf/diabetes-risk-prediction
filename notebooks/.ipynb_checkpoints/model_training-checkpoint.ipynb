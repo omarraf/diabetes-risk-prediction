{
 "cells": [
  {
   "cell_type": "code",
   "execution_count": 24,
   "id": "862b0938-ad18-4286-8294-7e0ebb6e34be",
   "metadata": {},
   "outputs": [],
   "source": [
    "import numpy as np\n",
    "import pandas as pd\n",
    "from sklearn.model_selection import train_test_split\n",
    "\n",
    "df = pd.read_csv('../data/cleaned_diabetes.csv')\n"
   ]
  },
  {
   "cell_type": "code",
   "execution_count": 34,
   "id": "ef0ab7c4-78b2-4a18-90cc-6eef730d5f3c",
   "metadata": {},
   "outputs": [
    {
     "name": "stdout",
     "output_type": "stream",
     "text": [
      "(225152, 3)\n"
     ]
    }
   ],
   "source": [
    "# Features and labels\n",
    "\n",
    "# Downsample class 0 to balance dataset\n",
    "df0 = df[df['Diabetes_012'] == 0].sample(n=40000, random_state=42)\n",
    "df1 = df[df['Diabetes_012'] == 1]\n",
    "df2 = df[df['Diabetes_012'] == 2]\n",
    "\n",
    "# Combine into balanced DataFrame\n",
    "df_balanced = pd.concat([df0, df1, df2])\n",
    "\n",
    "# Shuffle rows\n",
    "df_balanced = df_balanced.sample(frac=1, random_state=42).reset_index(drop=True\n",
    "X = df.drop('Diabetes_012', axis=1).values  # shape: (n_samples, n_features)\n",
    "y = df['Diabetes_012'].values               # shape: (n_samples,)\n",
    "\n",
    "# One-hot encode y labels for softmax\n",
    "def one_hot(y, num_classes):\n",
    "    one_hot_encoded = np.zeros((y.size, num_classes))\n",
    "    one_hot_encoded[np.arange(y.size), y.astype(int)] = 1\n",
    "    return one_hot_encoded\n",
    "\n",
    "Y = one_hot(y, num_classes=3)\n",
    "\n",
    "print(Y.shape)\n"
   ]
  },
  {
   "cell_type": "code",
   "execution_count": 26,
   "id": "ea669e55-cf77-4292-be48-d81a1df93aa6",
   "metadata": {},
   "outputs": [],
   "source": [
    "# Initialize weights and bias\n",
    "n_samples, n_features = X.shape\n",
    "n_classes = 3\n",
    "\n",
    "np.random.seed(42)\n",
    "\n",
    "W = np.random.randn(n_features, n_classes) * 0.01  # small random numbers\n",
    "b = np.zeros((1, n_classes))                        # bias\n"
   ]
  },
  {
   "cell_type": "code",
   "execution_count": 27,
   "id": "bbbbd0db-d601-4a1e-9570-48180d4aeff2",
   "metadata": {},
   "outputs": [],
   "source": [
    "# Softmax function\n",
    "def softmax(z):\n",
    "    exp_z = np.exp(z - np.max(z, axis=1, keepdims=True))  # stability fix\n",
    "    return exp_z / np.sum(exp_z, axis=1, keepdims=True)\n",
    "\n",
    "# Set manual class weights (higher weight for prediabetes and diabetes)\n",
    "class_weights = np.array([1.0, 6.0, 2.0])  #tweak these \n",
    "\n",
    "def cross_entropy_loss_weighted(Y, P, weights):\n",
    "    epsilon = 1e-12\n",
    "    P = np.clip(P, epsilon, 1. - epsilon)\n",
    "    weighted_loss = -np.sum(weights * Y * np.log(P), axis=1)\n",
    "    return np.mean(weighted_loss)\n",
    "\n"
   ]
  },
  {
   "cell_type": "code",
   "execution_count": 30,
   "id": "d519dd29-9183-4787-b5ed-2cb9b91b94ee",
   "metadata": {},
   "outputs": [],
   "source": [
    "def train(X, Y, W, b, lr=0.1, epochs=1000):\n",
    "    for i in range(epochs):\n",
    "        # Forward pass\n",
    "        logits = np.dot(X, W) + b\n",
    "        P = softmax(logits)\n",
    "\n",
    "        # Loss\n",
    "        loss = cross_entropy_loss_weighted(Y, P, class_weights)\n",
    "\n",
    "        # Backward pass (gradients)\n",
    "        dW = np.dot(X.T, (P - Y)) / X.shape[0]\n",
    "        db = np.sum(P - Y, axis=0, keepdims=True) / X.shape[0]\n",
    "\n",
    "        # Update parameters\n",
    "        W -= lr * dW\n",
    "        b -= lr * db\n",
    "\n",
    "        if i % 100 == 0:\n",
    "            print(f\"Epoch {i}, Loss: {loss:.4f}\")\n",
    "    \n",
    "    return W, b\n"
   ]
  },
  {
   "cell_type": "code",
   "execution_count": 31,
   "id": "268da1fe-89fb-436e-a370-98dfbba7d253",
   "metadata": {},
   "outputs": [
    {
     "name": "stdout",
     "output_type": "stream",
     "text": [
      "Epoch 0, Loss: 1.8664\n",
      "Epoch 100, Loss: 3.9746\n",
      "Epoch 200, Loss: 4.6348\n",
      "Epoch 300, Loss: 3.7707\n",
      "Epoch 400, Loss: 4.4924\n",
      "Epoch 500, Loss: 3.7245\n",
      "Epoch 600, Loss: 4.4420\n",
      "Epoch 700, Loss: 3.7054\n",
      "Epoch 800, Loss: 4.4228\n",
      "Epoch 900, Loss: 3.6969\n"
     ]
    }
   ],
   "source": [
    "\n",
    "# Re-initialize weights before retraining\n",
    "n_samples, n_features = X.shape\n",
    "W = np.random.randn(n_features, 3) * 0.01\n",
    "b = np.zeros((1, 3))\n",
    "\n",
    "# Train again\n",
    "W, b = train(X, Y, W, b, lr=0.1, epochs=1000)\n",
    "\n"
   ]
  },
  {
   "cell_type": "code",
   "execution_count": 32,
   "id": "12a45753-e0ce-47ef-994b-6ea2700df0aa",
   "metadata": {},
   "outputs": [
    {
     "data": {
      "text/plain": [
       "array([0, 0, 0, ..., 0, 0, 0])"
      ]
     },
     "execution_count": 32,
     "metadata": {},
     "output_type": "execute_result"
    }
   ],
   "source": [
    "# Prediction function\n",
    "def predict(X, W, b):\n",
    "    logits = np.dot(X, W) + b\n",
    "    P = softmax(logits)\n",
    "    return np.argmax(P, axis=1)  # Choose class with highest probability\n",
    "\n",
    "# Make predictions\n",
    "y_pred = predict(X, W, b)\n",
    "y_pred"
   ]
  },
  {
   "cell_type": "code",
   "execution_count": 33,
   "id": "42c12e7f-25e3-47ac-8558-0176b60cd5a7",
   "metadata": {},
   "outputs": [
    {
     "name": "stdout",
     "output_type": "stream",
     "text": [
      "Accuracy: 0.5616611895742919\n",
      "              precision    recall  f1-score   support\n",
      "\n",
      "         0.0       0.54      0.94      0.69     40000\n",
      "         1.0       0.00      0.00      0.00      4629\n",
      "         2.0       0.70      0.21      0.32     35097\n",
      "\n",
      "    accuracy                           0.56     79726\n",
      "   macro avg       0.41      0.38      0.34     79726\n",
      "weighted avg       0.58      0.56      0.49     79726\n",
      "\n"
     ]
    },
    {
     "data": {
      "image/png": "[encoded data removed]",
      "text/plain": [
       "<Figure size 600x500 with 2 Axes>"
      ]
     },
     "metadata": {},
     "output_type": "display_data"
    }
   ],
   "source": [
    "from sklearn.metrics import accuracy_score, classification_report, confusion_matrix\n",
    "\n",
    "# Evaluate\n",
    "print(\"Accuracy:\", accuracy_score(y, y_pred))\n",
    "print(classification_report(y, y_pred, zero_division=0))\n",
    "\n",
    "# Optional: confusion matrix\n",
    "import seaborn as sns\n",
    "import matplotlib.pyplot as plt\n",
    "\n",
    "cm = confusion_matrix(y, y_pred)\n",
    "plt.figure(figsize=(6,5))\n",
    "sns.heatmap(cm, annot=True, fmt='d', cmap='Blues', xticklabels=[0,1,2], yticklabels=[0,1,2])\n",
    "plt.xlabel('Predicted')\n",
    "plt.ylabel('Actual')\n",
    "plt.title('Confusion Matrix')\n",
    "plt.show()\n"
   ]
  },
  {
   "cell_type": "code",
   "execution_count": null,
   "id": "7b145fa4-6a36-4371-afcc-279a6ad21959",
   "metadata": {},
   "outputs": [],
   "source": []
  },
  {
   "cell_type": "code",
   "execution_count": null,
   "id": "bd73b21c-ccd6-47b5-8736-47b90e8b6c5a",
   "metadata": {},
   "outputs": [],
   "source": []
  },
  {
   "cell_type": "code",
   "execution_count": null,
   "id": "fb5ce45d-48f7-4bf6-a633-bfade66cc966",
   "metadata": {},
   "outputs": [],
   "source": []
  }
 ],
 "metadata": {
  "kernelspec": {
   "display_name": "Python 3 (ipykernel)",
   "language": "python",
   "name": "python3"
  },
  "language_info": {
   "codemirror_mode": {
    "name": "ipython",
    "version": 3
   },
   "file_extension": ".py",
   "mimetype": "text/x-python",
   "name": "python",
   "nbconvert_exporter": "python",
   "pygments_lexer": "ipython3",
   "version": "3.11.8"
  }
 },
 "nbformat": 4,
 "nbformat_minor": 5
}
